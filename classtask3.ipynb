{
 "cells": [
  {
   "cell_type": "markdown",
   "id": "8b4a9d77",
   "metadata": {},
   "source": [
    "### Student Performance Analysis With Linear Algebra"
   ]
  },
  {
   "cell_type": "markdown",
   "id": "1168a767",
   "metadata": {},
   "source": [
    "### 1 . Analysis 2. Exercises"
   ]
  },
  {
   "cell_type": "code",
   "execution_count": 96,
   "id": "5392492f",
   "metadata": {},
   "outputs": [],
   "source": [
    "import numpy as np"
   ]
  },
  {
   "cell_type": "markdown",
   "id": "7a3d5857",
   "metadata": {},
   "source": [
    "### 1. Analysis"
   ]
  },
  {
   "cell_type": "markdown",
   "id": "f136c949",
   "metadata": {},
   "source": [
    " #### 3.1 Representing Data as a matrix\n",
    "\n",
    "$$\n",
    "Scores = \\begin{bmatrix}\n",
    "80 & 70 & 90 \\\\\n",
    "60 & 85 & 75 \\\\\n",
    "95 & 88 & 92 \\\\\n",
    "70 & 60 & 65 \n",
    "\\end{bmatrix}\n",
    "\n",
    "\n",
    "\n"
   ]
  },
  {
   "cell_type": "code",
   "execution_count": 97,
   "id": "e7b35842",
   "metadata": {},
   "outputs": [
    {
     "name": "stdout",
     "output_type": "stream",
     "text": [
      "[[80 70 90]\n",
      " [60 85 75]\n",
      " [95 88 92]\n",
      " [70 60 65]]\n"
     ]
    }
   ],
   "source": [
    "scores = np.array([[80,70,90],[60,85,75],[95,88,92],[70,60,65]])\n",
    "student1_scores = np.array([80,70,90])\n",
    "student2_scores = np.array([60,85,75])\n",
    "student3_scores = np.array([95,88,92])\n",
    "student4_scores = np.array([70,60,65])\n",
    "print(scores)"
   ]
  },
  {
   "cell_type": "markdown",
   "id": "b64d4d06",
   "metadata": {},
   "source": [
    "#### 3.2 Total Scores per Student (Vector Addition)\n",
    "\n",
    "student 1 = [80 + 70 + 90] = 240\n",
    "<br>\n",
    "\n",
    "student 2 = [60 + 85 + 75] = 220\n",
    "<br>\n",
    "\n",
    "student 3 = [95 + 88 + 92] = 275\n",
    "<br>\n",
    "\n",
    "student 4 = [70 + 60 + 65] = 195"
   ]
  },
  {
   "cell_type": "code",
   "execution_count": 98,
   "id": "82252795",
   "metadata": {},
   "outputs": [
    {
     "name": "stdout",
     "output_type": "stream",
     "text": [
      "Student 1 total score is 240\n"
     ]
    }
   ],
   "source": [
    "student1_scores.sum()\n",
    "print(f\"Student 1 total score is {student1_scores.sum()}\")"
   ]
  },
  {
   "cell_type": "code",
   "execution_count": 99,
   "id": "29500317",
   "metadata": {},
   "outputs": [
    {
     "name": "stdout",
     "output_type": "stream",
     "text": [
      "Student 2 total score is 220\n"
     ]
    }
   ],
   "source": [
    "student2_scores.sum()\n",
    "print(f\"Student 2 total score is {student2_scores.sum()}\")"
   ]
  },
  {
   "cell_type": "code",
   "execution_count": 100,
   "id": "13ec1067",
   "metadata": {},
   "outputs": [
    {
     "name": "stdout",
     "output_type": "stream",
     "text": [
      "Student 3 total score is 275\n"
     ]
    }
   ],
   "source": [
    "student3_scores.sum()\n",
    "print(f\"Student 3 total score is {student3_scores.sum()}\")"
   ]
  },
  {
   "cell_type": "code",
   "execution_count": 101,
   "id": "e6e23f4b",
   "metadata": {},
   "outputs": [
    {
     "name": "stdout",
     "output_type": "stream",
     "text": [
      "Student 4 total score is 240\n"
     ]
    }
   ],
   "source": [
    "student4_scores.sum()\n",
    "print(f\"Student 4 total score is {student1_scores.sum()}\")"
   ]
  },
  {
   "cell_type": "markdown",
   "id": "1479c519",
   "metadata": {},
   "source": [
    "#### 3.3 Aplying Weights (Scalar Multiplication)\n",
    "Maths_scalar = 2\n",
    "<br>\n",
    "English_scalar = 1.5\n",
    "<br>\n",
    "Science_scalar = 1\n",
    "<br>\n",
    "\n",
    "Maths_weight = 2(Math_scores)\n",
    "\n",
    "$$\n",
    "Maths Weight = \\begin{bmatrix}\n",
    "160 \\\\\n",
    "120 \\\\\n",
    "190 \\\\\n",
    "140 \\\\\n",
    "\\end{bmatrix}\n"
   ]
  },
  {
   "cell_type": "code",
   "execution_count": 102,
   "id": "1000ec71",
   "metadata": {},
   "outputs": [
    {
     "name": "stdout",
     "output_type": "stream",
     "text": [
      "Mathematics Weight : [160 120 190 140]\n"
     ]
    }
   ],
   "source": [
    "scalar_weight = [2,1.5,1]\n",
    "Maths_weight = scalar_weight[0] * scores[:,0]\n",
    "print(\"Mathematics Weight :\",Maths_weight)"
   ]
  },
  {
   "cell_type": "markdown",
   "id": "a71f53c2",
   "metadata": {},
   "source": [
    "\n",
    "English_weight = 2(English_scores)\n",
    "\n",
    "$$\n",
    "English Weight = \\begin{bmatrix}\n",
    "105 \\\\\n",
    "127.5 \\\\\n",
    "132 \\\\\n",
    "90 \\\\\n",
    "\\end{bmatrix}"
   ]
  },
  {
   "cell_type": "code",
   "execution_count": 103,
   "id": "71948627",
   "metadata": {},
   "outputs": [
    {
     "name": "stdout",
     "output_type": "stream",
     "text": [
      "English Language Weight : [105.  127.5 132.   90. ]\n"
     ]
    }
   ],
   "source": [
    "English_weight = scalar_weight[1] * scores[:,1]\n",
    "print(\"English Language Weight :\",English_weight)"
   ]
  },
  {
   "cell_type": "markdown",
   "id": "74ff4168",
   "metadata": {},
   "source": [
    "\n",
    "Science_weight = 1(Science_scores)\n",
    "\n",
    "$$\n",
    "Science Weight = \\begin{bmatrix}\n",
    "90 \\\\\n",
    "75 \\\\\n",
    "92 \\\\\n",
    "65 \\\\\n",
    "\\end{bmatrix}"
   ]
  },
  {
   "cell_type": "code",
   "execution_count": 104,
   "id": "9d7e2011",
   "metadata": {},
   "outputs": [
    {
     "name": "stdout",
     "output_type": "stream",
     "text": [
      "Science Weight : [90 75 92 65]\n"
     ]
    }
   ],
   "source": [
    "Science_weight = scalar_weight[2] * scores[:,2]\n",
    "print(\"Science Weight :\",Science_weight)"
   ]
  },
  {
   "cell_type": "markdown",
   "id": "bb4dbd62",
   "metadata": {},
   "source": [
    "#### 3.4 Average Score per Subject (Matrix Operations)\n",
    "\n",
    "Maths_Average = (80 + 60 + 95 + 70)/4 = 305/4 = 76.25\n",
    "<br>\n",
    "\n",
    "English_Average = (70 + 85 + 88 + 60)/4 = 303/4 = 75.75\n",
    "<br>\n",
    "\n",
    "Science_Average = (90 + 75 + 92 + 65) = 322/4 = 80.5"
   ]
  },
  {
   "cell_type": "code",
   "execution_count": 105,
   "id": "0dbfb1e6",
   "metadata": {},
   "outputs": [
    {
     "name": "stdout",
     "output_type": "stream",
     "text": [
      "Average Maths scores : 76.25\n",
      "Average English scores : 75.75\n",
      "Average Science scores : 80.5\n"
     ]
    }
   ],
   "source": [
    "# Average Score per Students\n",
    "\n",
    "Scores_per_subject = np.mean(scores,axis = 0)\n",
    "scoress = ['Maths','English','Science']\n",
    "b = 1\n",
    "for scoress,st in zip(scoress,Scores_per_subject):\n",
    "    print(f\"Average {scoress} scores : {st}\")\n",
    "    b+=1"
   ]
  },
  {
   "cell_type": "markdown",
   "id": "a32865e5",
   "metadata": {},
   "source": [
    "#### 3.5 Final Grades using Matrix Multiplication\n",
    "\n",
    "weight_vector = [0.5 , 0.3 ,0.2]\n",
    "\n",
    "Math_final_grades :\n",
    "$$\n",
    "0.5*Maths_Scores = \\begin{bmatrix}\n",
    "40 \\\\\n",
    "30 \\\\\n",
    "47.5 \\\\\n",
    "35\n",
    "\\end{bmatrix}\n",
    "\n",
    "\n"
   ]
  },
  {
   "cell_type": "code",
   "execution_count": 106,
   "id": "4f055b62",
   "metadata": {},
   "outputs": [
    {
     "name": "stdout",
     "output_type": "stream",
     "text": [
      "Mathematics Final grades : \n",
      "[[40. ]\n",
      " [30. ]\n",
      " [47.5]\n",
      " [35. ]]\n"
     ]
    }
   ],
   "source": [
    "# Math fnal grades \n",
    "scalar_math = 0.5\n",
    "Math_final_grades = scalar_math * scores[:,0]\n",
    "print(f\"Mathematics Final grades : \\n{Math_final_grades.reshape(4,1)}\")"
   ]
  },
  {
   "cell_type": "markdown",
   "id": "e79b33c2",
   "metadata": {},
   "source": [
    "\n",
    "\n",
    "English_final_grades :\n",
    "$$\n",
    "0.3*English_Scores = \\begin{bmatrix}\n",
    "21 \\\\\n",
    "25.5 \\\\\n",
    "26.4 \\\\\n",
    "18\n",
    "\\end{bmatrix}\n"
   ]
  },
  {
   "cell_type": "code",
   "execution_count": 107,
   "id": "7f06b6b1",
   "metadata": {},
   "outputs": [
    {
     "name": "stdout",
     "output_type": "stream",
     "text": [
      "English Final grades : \n",
      "[[21. ]\n",
      " [25.5]\n",
      " [26.4]\n",
      " [18. ]]\n"
     ]
    }
   ],
   "source": [
    "# English fnal grades \n",
    "scalar_english = 0.3\n",
    "English_final_grades = scalar_english * scores[:,1]\n",
    "print(f\"English Final grades : \\n{English_final_grades.reshape(4,1)}\")"
   ]
  },
  {
   "cell_type": "markdown",
   "id": "17e41d1d",
   "metadata": {},
   "source": [
    "\n",
    "Science_final_grades :\n",
    "$$\n",
    "0.2*Science_Scores = \\begin{bmatrix}\n",
    "18 \\\\\n",
    "15 \\\\\n",
    "18.4 \\\\\n",
    "13\n",
    "\\end{bmatrix}\n"
   ]
  },
  {
   "cell_type": "code",
   "execution_count": 108,
   "id": "e2aade8d",
   "metadata": {},
   "outputs": [
    {
     "name": "stdout",
     "output_type": "stream",
     "text": [
      "Science Final grades : \n",
      "[[18. ]\n",
      " [15. ]\n",
      " [18.4]\n",
      " [13. ]]\n"
     ]
    }
   ],
   "source": [
    "# Science fnal grades \n",
    "scalar_science = 0.2\n",
    "Science_final_grades = scalar_science * scores[:,2]\n",
    "print(f\"Science Final grades : \\n{Science_final_grades.reshape(4,1)}\")"
   ]
  },
  {
   "cell_type": "markdown",
   "id": "1a094dad",
   "metadata": {},
   "source": [
    "#### 3.6 Comparing Students (Vector Subtraction)\n",
    "student1_Math_score = 80\n",
    "<br>\n",
    "\n",
    "student1_English_score = 70\n",
    "<br>\n",
    "\n",
    "Student1_scores = [80 + 70 + 90] = 240\n",
    "<br>\n",
    "\n",
    "\n",
    "student2_Math_score = 60\n",
    "<br>\n",
    "\n",
    "student2_English_score = 85\n",
    "<br>\n",
    "\n",
    "Student2_scores = [60 + 85 + 75] = 220\n",
    "<br>\n",
    "\n",
    "\n",
    "student1_Math_score - student2_Math_score = 80 - 60 = 20\n",
    "<br>\n",
    "\n",
    "#### Student1 performed better in Mathematics than student 2\n",
    "<br>\n",
    "\n",
    "student1_Eglish_score - student2_English_score = 70 - 85 = -15\n",
    "<br>\n",
    "\n",
    "#### Student2 performed better in English Language than student 1\n",
    "<br>\n",
    "\n",
    "\n",
    "student1_Science_score - student2_Science_score = 90 - 75 = 15\n",
    "<br>\n",
    "\n",
    "#### Student1 performed better in Science than student 2\n",
    "<br>\n",
    "\n",
    "\n",
    "Overall :\n",
    "<br>\n",
    "\n",
    "Student1_scores = [80 + 70 + 90] = 240  -   Student2_scores = [60 + 85 + 75] = 220\n",
    "<br>\n",
    "\n",
    "### Student 1 performed better overall than Student 2"
   ]
  },
  {
   "cell_type": "code",
   "execution_count": 109,
   "id": "0e614d31",
   "metadata": {},
   "outputs": [
    {
     "name": "stdout",
     "output_type": "stream",
     "text": [
      "Student 1 performed better than Student 2 in Mathematics with a difference of 20\n"
     ]
    }
   ],
   "source": [
    "Math_compared = scores[0,0] - scores[1,0]\n",
    "print(f\"Student 1 performed better than Student 2 in Mathematics with a difference of {Math_compared}\")"
   ]
  },
  {
   "cell_type": "code",
   "execution_count": 110,
   "id": "88dd24ad",
   "metadata": {},
   "outputs": [
    {
     "name": "stdout",
     "output_type": "stream",
     "text": [
      "Student 2 performed better than Student 1 in Engish with a difference of 15\n"
     ]
    }
   ],
   "source": [
    "English_compared = scores[0,1] - scores[1,1]\n",
    "print(f\"Student 2 performed better than Student 1 in Engish with a difference of 15\")\n"
   ]
  },
  {
   "cell_type": "code",
   "execution_count": 111,
   "id": "20fe91f6",
   "metadata": {},
   "outputs": [
    {
     "name": "stdout",
     "output_type": "stream",
     "text": [
      "Student 1 performed better than Student 2 in Science with a difference of 15\n"
     ]
    }
   ],
   "source": [
    "Science_compared = scores[0,2] - scores[1,2]\n",
    "print(f\"Student 1 performed better than Student 2 in Science with a difference of {Science_compared}\")"
   ]
  },
  {
   "cell_type": "code",
   "execution_count": 112,
   "id": "6ff92455",
   "metadata": {},
   "outputs": [
    {
     "name": "stdout",
     "output_type": "stream",
     "text": [
      "Student 1 performed better overall than Student 2 with an overall difference of 20\n"
     ]
    }
   ],
   "source": [
    "studen1_overall_scores = np.sum(scores[0])\n",
    "\n",
    "student2_overall_scores = np.sum(scores[1])\n",
    "\n",
    "student_overall_compared = studen1_overall_scores - student2_overall_scores\n",
    "\n",
    "print(f\"Student 1 performed better overall than Student 2 with an overall difference of {student_overall_compared}\")"
   ]
  },
  {
   "cell_type": "markdown",
   "id": "66981348",
   "metadata": {},
   "source": [
    "### Add-on Exercises"
   ]
  },
  {
   "cell_type": "markdown",
   "id": "0875d4a9",
   "metadata": {},
   "source": [
    "1. \n",
    "$$\n",
    "Scores = \\begin{bmatrix}\n",
    "80 & 70 & 90 & 50 \\\\\n",
    "60 & 85 & 75 & 60 \\\\\n",
    "95 & 88 & 92 & 70 \\\\\n",
    "70 & 60 & 65 & 80 \\\\\n",
    "70 & 55 & 75 & 60 \n",
    "\n",
    "\n",
    "\\end{bmatrix}"
   ]
  },
  {
   "cell_type": "code",
   "execution_count": 113,
   "id": "f9d7089e",
   "metadata": {},
   "outputs": [
    {
     "name": "stdout",
     "output_type": "stream",
     "text": [
      "[[80 70 90 50]\n",
      " [60 85 75 60]\n",
      " [95 88 92 70]\n",
      " [70 60 65 80]\n",
      " [70 55 75 60]]\n"
     ]
    }
   ],
   "source": [
    "scores = np.array([[80,70,90,50],[60,85,75,60],[95,88,92,70],[70,60,65,80],[70,55,75,60]])\n",
    "student1_scores = np.array([80,70,90,50])\n",
    "student2_scores = np.array([60,85,75,60])\n",
    "student3_scores = np.array([95,88,92,70])\n",
    "student4_scores = np.array([70,60,65,80])\n",
    "student5_scores = np.array([70,55,75,60])\n",
    "print(scores)"
   ]
  },
  {
   "cell_type": "markdown",
   "id": "88b25ed8",
   "metadata": {},
   "source": [
    "#### 3.2 Total Scores per Student (Vector Addition)\n",
    "\n",
    "student 1 = [80 + 70 + 90 + 50] = 290\n",
    "<br>\n",
    "\n",
    "student 2 = [60 + 85 + 75 + 60] = 280\n",
    "<br>\n",
    "\n",
    "student 3 = [95 + 88 + 92 + 70] = 345\n",
    "<br>\n",
    "\n",
    "student 4 = [70 + 60 + 65 + 80] = 275\n",
    "<br>\n",
    "\n",
    "student 5 = [70 + 55 + 75 + 60] = 260"
   ]
  },
  {
   "cell_type": "code",
   "execution_count": 114,
   "id": "0bcbaa4c",
   "metadata": {},
   "outputs": [
    {
     "name": "stdout",
     "output_type": "stream",
     "text": [
      "Student 1 total score is 290\n"
     ]
    }
   ],
   "source": [
    "student1_scores.sum()\n",
    "print(f\"Student 1 total score is {student1_scores.sum()}\")"
   ]
  },
  {
   "cell_type": "code",
   "execution_count": 115,
   "id": "c807152b",
   "metadata": {},
   "outputs": [
    {
     "name": "stdout",
     "output_type": "stream",
     "text": [
      "Student 2 total score is 280\n"
     ]
    }
   ],
   "source": [
    "student2_scores.sum()\n",
    "print(f\"Student 2 total score is {student2_scores.sum()}\")"
   ]
  },
  {
   "cell_type": "code",
   "execution_count": 116,
   "id": "c72e68a4",
   "metadata": {},
   "outputs": [
    {
     "name": "stdout",
     "output_type": "stream",
     "text": [
      "Student 3 total score is 345\n"
     ]
    }
   ],
   "source": [
    "student3_scores.sum()\n",
    "print(f\"Student 3 total score is {student3_scores.sum()}\")"
   ]
  },
  {
   "cell_type": "code",
   "execution_count": 117,
   "id": "24d99a84",
   "metadata": {},
   "outputs": [
    {
     "name": "stdout",
     "output_type": "stream",
     "text": [
      "Student 4 total score is 275\n"
     ]
    }
   ],
   "source": [
    "student4_scores.sum()\n",
    "print(f\"Student 4 total score is {student4_scores.sum()}\")"
   ]
  },
  {
   "cell_type": "code",
   "execution_count": 118,
   "id": "f5952223",
   "metadata": {},
   "outputs": [
    {
     "name": "stdout",
     "output_type": "stream",
     "text": [
      "Student 4 total score is 260\n"
     ]
    }
   ],
   "source": [
    "student5_scores.sum()\n",
    "print(f\"Student 4 total score is {student5_scores.sum()}\")"
   ]
  },
  {
   "cell_type": "markdown",
   "id": "5f257b4d",
   "metadata": {},
   "source": [
    "#### 3.4 Average Score per Subject (Matrix Operations)\n",
    "\n",
    "Maths_Average = (80 + 60 + 95 + 70 + 70)/5 = 375/5 = 75\n",
    "<br>\n",
    "\n",
    "English_Average = (70 + 85 + 88 + 60 + 55)/5 = 358/5 = 71.6\n",
    "<br>\n",
    "\n",
    "Science_Average = (90 + 75 + 92 + 65 + 75)/5 = 397/5 = 79.4\n",
    "<br>\n",
    "\n",
    "Physics_Average = (50 + 60 + 70 + 80 + 60)/5 = 320/5 = 64"
   ]
  },
  {
   "cell_type": "code",
   "execution_count": 119,
   "id": "aa1f8e46",
   "metadata": {},
   "outputs": [
    {
     "name": "stdout",
     "output_type": "stream",
     "text": [
      "Average Maths scores : 75.0\n",
      "Average English scores : 71.6\n",
      "Average Science scores : 79.4\n",
      "Average Physics scores : 64.0\n"
     ]
    }
   ],
   "source": [
    "# Average Score per Students\n",
    "\n",
    "Scores_per_subject = np.mean(scores,axis = 0)\n",
    "scoress = ['Maths','English','Science','Physics']\n",
    "b = 1\n",
    "for scoress,st in zip(scoress,Scores_per_subject):\n",
    "    print(f\"Average {scoress} scores : {st}\")\n",
    "    b+=1"
   ]
  },
  {
   "cell_type": "markdown",
   "id": "6a4b025b",
   "metadata": {},
   "source": [
    "#### 2. \n",
    "Maths_scalar = 3\n",
    "<br>\n",
    "English_scalar = 1\n",
    "<br>\n",
    "Science_scalar = 1\n",
    "<br>\n",
    "\n",
    "Maths_weight = 3(Math_scores)\n",
    "\n",
    "$$\n",
    "Maths Weight = \\begin{bmatrix}\n",
    "240 \\\\\n",
    "180 \\\\\n",
    "285 \\\\\n",
    "210 \\\\\n",
    "210\n",
    "\\end{bmatrix}\n",
    "\n",
    "\n",
    "\n"
   ]
  },
  {
   "cell_type": "markdown",
   "id": "cf588543",
   "metadata": {},
   "source": [
    "Scores with Maths Weight \n",
    "\n",
    "\n",
    "\n",
    "$$\n",
    "Scores with MathsWeight = \\begin{bmatrix}\n",
    "240 & 70 & 90 & 50 \\\\\n",
    "180 & 85 & 75 & 60 \\\\\n",
    "285 & 88 & 92 & 70 \\\\\n",
    "210 & 60 & 65 & 80 \\\\\n",
    "210 & 55 & 75 & 60 \n",
    "\n",
    "\n",
    "\\end{bmatrix}"
   ]
  },
  {
   "cell_type": "code",
   "execution_count": 120,
   "id": "d5e13559",
   "metadata": {},
   "outputs": [
    {
     "name": "stdout",
     "output_type": "stream",
     "text": [
      "Mathematics Weight : [240 180 285 210 210]\n"
     ]
    }
   ],
   "source": [
    "scalar_weight = [3,1,1]\n",
    "Maths_weight = scalar_weight[0] * scores[:,0]\n",
    "print(\"Mathematics Weight :\",Maths_weight)"
   ]
  },
  {
   "cell_type": "code",
   "execution_count": 121,
   "id": "c0cd8789",
   "metadata": {},
   "outputs": [
    {
     "data": {
      "text/plain": [
       "array([[80, 70, 90, 50],\n",
       "       [60, 85, 75, 60],\n",
       "       [95, 88, 92, 70],\n",
       "       [70, 60, 65, 80],\n",
       "       [70, 55, 75, 60]])"
      ]
     },
     "execution_count": 121,
     "metadata": {},
     "output_type": "execute_result"
    }
   ],
   "source": [
    "new_scores = scores.copy()\n",
    "new_scores"
   ]
  },
  {
   "cell_type": "code",
   "execution_count": 122,
   "id": "2d901902",
   "metadata": {},
   "outputs": [
    {
     "name": "stdout",
     "output_type": "stream",
     "text": [
      "The new scores : \n",
      "[[240  70  90  50]\n",
      " [180  85  75  60]\n",
      " [285  88  92  70]\n",
      " [210  60  65  80]\n",
      " [210  55  75  60]]\n"
     ]
    }
   ],
   "source": [
    "new_scores[:,0] = Maths_weight\n",
    "print(f\"The new scores : \\n{new_scores}\")"
   ]
  },
  {
   "cell_type": "markdown",
   "id": "e3107afc",
   "metadata": {},
   "source": [
    "#### 3. \n",
    "weight_vector = [0.4 , 0.2 ,0.3,0.1]\n",
    "\n",
    "Math_final_grades :\n",
    "$$\n",
    "0.4*Maths_Scores = \\begin{bmatrix}\n",
    "32 \\\\\n",
    "24 \\\\\n",
    "38 \\\\\n",
    "28 \\\\\n",
    "28\n",
    "\\end{bmatrix}\n"
   ]
  },
  {
   "cell_type": "code",
   "execution_count": 124,
   "id": "7ed4e8b4",
   "metadata": {},
   "outputs": [
    {
     "name": "stdout",
     "output_type": "stream",
     "text": [
      "Mathematics Final grades : \n",
      "[[32.]\n",
      " [24.]\n",
      " [38.]\n",
      " [28.]\n",
      " [28.]]\n"
     ]
    }
   ],
   "source": [
    "# Math fnal grades \n",
    "scalar_math = 0.4\n",
    "Math_final_grades = scalar_math * scores[:,0]\n",
    "print(f\"Mathematics Final grades : \\n{Math_final_grades.reshape(5,1)}\")"
   ]
  },
  {
   "cell_type": "markdown",
   "id": "b603b65b",
   "metadata": {},
   "source": [
    "\n",
    "\n",
    "English_final_grades :\n",
    "$$\n",
    "0.2*English_Scores = \\begin{bmatrix}\n",
    "14 \\\\\n",
    "17 \\\\\n",
    "17.6 \\\\\n",
    "12 \\\\\n",
    "11\n",
    "\\end{bmatrix}\n"
   ]
  },
  {
   "cell_type": "code",
   "execution_count": 125,
   "id": "fd594a3d",
   "metadata": {},
   "outputs": [
    {
     "name": "stdout",
     "output_type": "stream",
     "text": [
      "English Final grades : \n",
      "[[14. ]\n",
      " [17. ]\n",
      " [17.6]\n",
      " [12. ]\n",
      " [11. ]]\n"
     ]
    }
   ],
   "source": [
    "# English fnal grades \n",
    "scalar_english = 0.2\n",
    "English_final_grades = scalar_english * scores[:,1]\n",
    "print(f\"English Final grades : \\n{English_final_grades.reshape(5,1)}\")"
   ]
  },
  {
   "cell_type": "code",
   "execution_count": 135,
   "id": "82a04f1b",
   "metadata": {},
   "outputs": [
    {
     "name": "stdout",
     "output_type": "stream",
     "text": [
      "Science Final grades : \n",
      "[[27. ]\n",
      " [22.5]\n",
      " [27.6]\n",
      " [19.5]\n",
      " [22.5]]\n"
     ]
    }
   ],
   "source": [
    "# Science fnal grades \n",
    "scalar_science = 0.3\n",
    "Science_final_grades = scalar_science * scores[:,2]\n",
    "print(f\"Science Final grades : \\n{Science_final_grades.reshape(5,1)}\")"
   ]
  },
  {
   "cell_type": "code",
   "execution_count": 137,
   "id": "c1113585",
   "metadata": {},
   "outputs": [
    {
     "name": "stdout",
     "output_type": "stream",
     "text": [
      "Physics Final grades : \n",
      "[[5.]\n",
      " [6.]\n",
      " [7.]\n",
      " [8.]\n",
      " [6.]]\n"
     ]
    }
   ],
   "source": [
    "# Physics final grades \n",
    "scalar_physics = 0.1\n",
    "physics_final_grades = scalar_physics * scores[:,3]\n",
    "print(f\"Physics Final grades : \\n{physics_final_grades.reshape(5,1)}\")"
   ]
  },
  {
   "cell_type": "code",
   "execution_count": null,
   "id": "12b7e704",
   "metadata": {},
   "outputs": [
    {
     "data": {
      "text/plain": [
       "array([[32. , 24. , 38. , 28. , 28. ],\n",
       "       [14. , 17. , 17.6, 12. , 11. ],\n",
       "       [27. , 22.5, 27.6, 19.5, 22.5],\n",
       "       [ 5. ,  6. ,  7. ,  8. ,  6. ]])"
      ]
     },
     "execution_count": 140,
     "metadata": {},
     "output_type": "execute_result"
    }
   ],
   "source": [
    "New_scoress = np.array([Math_final_grades,English_final_grades,Science_final_grades,physics_final_grades])\n",
    "print()New_scoress"
   ]
  }
 ],
 "metadata": {
  "kernelspec": {
   "display_name": "Python 3",
   "language": "python",
   "name": "python3"
  },
  "language_info": {
   "codemirror_mode": {
    "name": "ipython",
    "version": 3
   },
   "file_extension": ".py",
   "mimetype": "text/x-python",
   "name": "python",
   "nbconvert_exporter": "python",
   "pygments_lexer": "ipython3",
   "version": "3.13.7"
  }
 },
 "nbformat": 4,
 "nbformat_minor": 5
}
