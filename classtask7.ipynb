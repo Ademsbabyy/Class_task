{
 "cells": [
  {
   "cell_type": "markdown",
   "id": "d8304720",
   "metadata": {},
   "source": [
    "## Measures of Spread\n",
    "\n"
   ]
  },
  {
   "cell_type": "markdown",
   "id": "267fae9a",
   "metadata": {},
   "source": [
    "#### Example : Given([4,8,6,5,3]) , Find the Variance.\n",
    "\n",
    "Variance = $\\sigma^2 = \\frac{1}{N} \\sum_{i=1}^N (x_i - \\mu)^2$\n"
   ]
  },
  {
   "cell_type": "markdown",
   "id": "954d24c7",
   "metadata": {},
   "source": [
    "#### Solution:\n",
    "Mean = $\\mu$ =  $\\frac{1}{N}\\sum_{}x_i $    =  4 + 8 + 6 + 5 + 3 = 26 / 5 = 5.2"
   ]
  },
  {
   "cell_type": "markdown",
   "id": "e3ae604e",
   "metadata": {},
   "source": [
    "Variance = $(4 - 5.2)^2 + (8 - 5.2)^2 + (6 - 5.2)^2 + (5 - 5.2)^2 + (3 - 5.2)^2$ = 1.44 + 7.84 + 0.64 + 0.04 + 4.84 = 14.8/5 = 2.96"
   ]
  },
  {
   "cell_type": "markdown",
   "id": "84125fe2",
   "metadata": {},
   "source": [
    "Variance = $\\sigma^2 = \\frac{1}{N} \\sum_{i=1}^N (x_i - \\mu)^2$ = 2.96"
   ]
  }
 ],
 "metadata": {
  "language_info": {
   "name": "python"
  }
 },
 "nbformat": 4,
 "nbformat_minor": 5
}
