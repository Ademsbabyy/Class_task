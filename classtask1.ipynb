{
 "cells": [
  {
   "cell_type": "markdown",
   "id": "92d72536",
   "metadata": {},
   "source": [
    "### Class Task 1"
   ]
  },
  {
   "cell_type": "markdown",
   "id": "fca15f6f",
   "metadata": {},
   "source": [
    "\n",
    "\n",
    "1. Matrix A = (2,3) matrix (2 rows and 3 columns)\n",
    "Matrix B = (3,2) matrix (3 rows and 2 columns)\n",
    "\n",
    "\n"
   ]
  },
  {
   "cell_type": "markdown",
   "id": "b4e4d003",
   "metadata": {},
   "source": [
    "2.  a). Yes, the matrices can be multiplied since matrix A has 3 columns and matrix B has 3 rows. \n",
    "\n",
    "    b).  Yes , the multipliation can be done both ways since even when interchanged the matrices rows and columns is equal to each other. 2 columns for matrix A = 2 rows for matrix B.\n",
    "    Therefore , Matrix [AB = BA]\n",
    "\n",
    "\n"
   ]
  },
  {
   "cell_type": "markdown",
   "id": "22c679dc",
   "metadata": {},
   "source": []
  },
  {
   "cell_type": "code",
   "execution_count": 5,
   "id": "46f5272a",
   "metadata": {},
   "outputs": [
    {
     "data": {
      "text/plain": [
       "array([[ 2, -1,  3],\n",
       "       [ 0,  4,  1]])"
      ]
     },
     "execution_count": 5,
     "metadata": {},
     "output_type": "execute_result"
    }
   ],
   "source": [
    "import numpy as np\n",
    "\n",
    "matrix_A = np.array([[2,-1,3],[0,4,1]])\n",
    "matrix_A\n"
   ]
  },
  {
   "cell_type": "code",
   "execution_count": 6,
   "id": "ad5cabe3",
   "metadata": {},
   "outputs": [
    {
     "data": {
      "text/plain": [
       "array([[[ 1,  2],\n",
       "        [-2,  0],\n",
       "        [ 5, -3]]])"
      ]
     },
     "execution_count": 6,
     "metadata": {},
     "output_type": "execute_result"
    }
   ],
   "source": [
    "matrix_B = np.array([[[1,2],[-2,0],[5,-3]]])\n",
    "matrix_B"
   ]
  },
  {
   "cell_type": "code",
   "execution_count": 7,
   "id": "92a3621b",
   "metadata": {},
   "outputs": [
    {
     "data": {
      "text/plain": [
       "array([[[19, -5],\n",
       "        [-3, -3]]])"
      ]
     },
     "execution_count": 7,
     "metadata": {},
     "output_type": "execute_result"
    }
   ],
   "source": [
    "Matrix_C = matrix_A @ matrix_B\n",
    "Matrix_C"
   ]
  },
  {
   "cell_type": "markdown",
   "id": "04f0bdf1",
   "metadata": {},
   "source": [
    "Confirming that matrix B can be multiplied with matrix A"
   ]
  },
  {
   "cell_type": "code",
   "execution_count": 8,
   "id": "aa75ff60",
   "metadata": {},
   "outputs": [
    {
     "data": {
      "text/plain": [
       "array([[[  2,   7,   5],\n",
       "        [ -4,   2,  -6],\n",
       "        [ 10, -17,  12]]])"
      ]
     },
     "execution_count": 8,
     "metadata": {},
     "output_type": "execute_result"
    }
   ],
   "source": [
    "matrix_D = matrix_B @ matrix_A\n",
    "matrix_D"
   ]
  }
 ],
 "metadata": {
  "kernelspec": {
   "display_name": "Python 3",
   "language": "python",
   "name": "python3"
  },
  "language_info": {
   "codemirror_mode": {
    "name": "ipython",
    "version": 3
   },
   "file_extension": ".py",
   "mimetype": "text/x-python",
   "name": "python",
   "nbconvert_exporter": "python",
   "pygments_lexer": "ipython3",
   "version": "3.13.7"
  }
 },
 "nbformat": 4,
 "nbformat_minor": 5
}
