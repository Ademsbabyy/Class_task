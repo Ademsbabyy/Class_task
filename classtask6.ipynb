{
 "cells": [
  {
   "cell_type": "markdown",
   "id": "959b5360",
   "metadata": {},
   "source": [
    "### Mean , Median & Mode\n"
   ]
  },
  {
   "cell_type": "markdown",
   "id": "42000145",
   "metadata": {},
   "source": [
    "#### 1. Class Test Scoes\n",
    "\n",
    "The following are the Mathematics test scores (out of 20) for a class of 15 students:\n",
    " 5, 8, 10, 12, 12, 12, 13, 14, 14, 15, 16, 18, 18, 20, 20"
   ]
  },
  {
   "cell_type": "markdown",
   "id": "35b59ca8",
   "metadata": {},
   "source": [
    "#### A. Mean\n",
    "\n",
    "Mean = (5 + 8 \n",
    "+ 10+ 12+ 12+ 12+ 13+ 14+ 14+ 15+ 16+ 18+ 18+ 20+ 20) / 15 = 207/15 = 13.8"
   ]
  },
  {
   "cell_type": "markdown",
   "id": "c2af1775",
   "metadata": {},
   "source": [
    "#### B. Median\n",
    "\n",
    "Median = 14 since it is the middle number when the numbers are arranged in ascending order"
   ]
  },
  {
   "cell_type": "markdown",
   "id": "e5781e2b",
   "metadata": {},
   "source": [
    "#### C. Mode\n",
    "Mode = 12 because it has the highest frequency of occurence"
   ]
  },
  {
   "cell_type": "markdown",
   "id": "87684be2",
   "metadata": {},
   "source": [
    "#### 2. \n",
    "lowest score (5) = 10\n",
    "\n",
    "#### 2a. Mean\n",
    "\n",
    "Mean = (10 + 8 \n",
    "+ 10+ 12+ 12+ 12+ 13+ 14+ 14+ 15+ 16+ 18+ 18+ 20+ 20) / 15 = 2/15 = 212/15 = 14.13\n",
    "\n",
    "\n",
    " Mean Change = New mean - Old mean = 14.13 - 13.8 = 0.33"
   ]
  },
  {
   "cell_type": "markdown",
   "id": "b203a193",
   "metadata": {},
   "source": [
    "#### 2b.\n",
    " The median will still remain 14 since it is the middle number when the numbers are arranged in ascending order."
   ]
  },
  {
   "cell_type": "markdown",
   "id": "3d84ec9c",
   "metadata": {},
   "source": [
    "#### 2c.\n",
    " The mode will still be 12 since it still has the highest frequency of occurence"
   ]
  },
  {
   "cell_type": "markdown",
   "id": "37b06d3c",
   "metadata": {},
   "source": [
    "### Question 2. Daily Commute Times\n",
    "\n",
    "A group of 9 students reported the time (in minutes) it takes them to get to school each day:\n",
    " 15, 20, 20, 25, 25, 30, 60, 65, 120"
   ]
  },
  {
   "cell_type": "markdown",
   "id": "b42e17e2",
   "metadata": {},
   "source": [
    "#### a. \n",
    "\n",
    "Mean = (15 + 20 + 20 + 25 + 25 + 30 + 60 + 65 + 120) / 9 = 380 / 9 = 42.22"
   ]
  },
  {
   "cell_type": "markdown",
   "id": "3f20bbde",
   "metadata": {},
   "source": [
    "#### b. \n",
    "Median = 25 since it is the middle number when the numbers are arranged in ascending order."
   ]
  },
  {
   "cell_type": "markdown",
   "id": "dd86217a",
   "metadata": {},
   "source": [
    "#### c. \n",
    "Mode = 20 and 25 since they both have the highest frequency of occurence. So the data is bimodal"
   ]
  },
  {
   "cell_type": "markdown",
   "id": "7242a0bd",
   "metadata": {},
   "source": [
    "#### 2. \n",
    "Median is the best method to represent the \"typical\" time it takes students to get to school because the time contains an outlier (120). The median is not affected by outliers."
   ]
  },
  {
   "cell_type": "markdown",
   "id": "a72b0bb2",
   "metadata": {},
   "source": [
    "### 3. Shoe Sizes\n",
    "\n",
    "The shoe sizes of students in a class are:\n",
    " 38, 39, 38, 40, 41, 42, 39, 39, 40, 38, 37, 39, 40, 41, 42"
   ]
  },
  {
   "cell_type": "markdown",
   "id": "fe012d19",
   "metadata": {},
   "source": [
    "### 3.\n",
    "#### 1.\n",
    "Mode = 39 which appears 4 times. It is the size with the highest frequency of occurence"
   ]
  },
  {
   "cell_type": "markdown",
   "id": "fe2b1664",
   "metadata": {},
   "source": [
    "#### 2.\n",
    "If a shoes company wants to donate free shoes, they should produce most size 39 because it is the size with the highest frequency of occurence, the size most common in the class."
   ]
  },
  {
   "cell_type": "markdown",
   "id": "fdbaabc8",
   "metadata": {},
   "source": [
    "#### 3.\n",
    "If they only want to produce one size that would fit the \"average\" student then they should use the mean which is the summation of all the sizes divided by the total number of students.\n",
    "\n",
    "Mean = (38 + 39 + 38 + 40 + 41 + 42 + 39 + 39 + 40 + 38 + 37 + 39 + 40 + 41 + 42) / 15 = 593 / 15 = 39.53\n",
    "\n",
    "The mean which is the average of the sizes in the class is 39.53."
   ]
  }
 ],
 "metadata": {
  "language_info": {
   "name": "python"
  }
 },
 "nbformat": 4,
 "nbformat_minor": 5
}
